{
 "cells": [
  {
   "cell_type": "markdown",
   "metadata": {},
   "source": [
    "<h1>Question 1</h1>\n",
    "<p>Prove that the transpose of a matrix <span class=\"math notranslate nohighlight\"><span class=\"MathJax_Preview\" style=\"color: inherit;\"></span><span class=\"MathJax\" id=\"MathJax-Element-178-Frame\" tabindex=\"0\" data-mathml=\"<math xmlns=&quot;http://www.w3.org/1998/Math/MathML&quot;><mrow class=&quot;MJX-TeXAtom-ORD&quot;><mi mathvariant=&quot;bold&quot;>A</mi></mrow></math>\" role=\"presentation\" style=\"position: relative;\"><nobr aria-hidden=\"true\"><span class=\"math\" id=\"MathJax-Span-2435\" style=\"width: 1.078em; display: inline-block;\"><span style=\"display: inline-block; position: relative; width: 0.873em; height: 0px; font-size: 122%;\"><span style=\"position: absolute; clip: rect(1.386em, 1000.82em, 2.41em, -999.997em); top: -2.252em; left: 0em;\"><span class=\"mrow\" id=\"MathJax-Span-2436\"><span class=\"texatom\" id=\"MathJax-Span-2437\"><span class=\"mrow\" id=\"MathJax-Span-2438\"><span class=\"mi\" id=\"MathJax-Span-2439\" style=\"font-family: MathJax_Main-bold;\">A</span></span></span></span><span style=\"display: inline-block; width: 0px; height: 2.257em;\"></span></span></span><span style=\"display: inline-block; overflow: hidden; vertical-align: -0.059em; border-left: 0px solid; width: 0px; height: 1.003em;\"></span></span></nobr><span class=\"MJX_Assistive_MathML\" role=\"presentation\"><math xmlns=\"http://www.w3.org/1998/Math/MathML\"><mrow class=\"MJX-TeXAtom-ORD\"><mi mathvariant=\"bold\">A</mi></mrow></math></span></span><script type=\"math/tex\" id=\"MathJax-Element-178\">\\mathbf{A}</script></span>’s transpose\n",
    "is <span class=\"math notranslate nohighlight\"><span class=\"MathJax_Preview\" style=\"color: inherit;\"></span><span class=\"MathJax\" id=\"MathJax-Element-179-Frame\" tabindex=\"0\" data-mathml=\"<math xmlns=&quot;http://www.w3.org/1998/Math/MathML&quot;><mrow class=&quot;MJX-TeXAtom-ORD&quot;><mi mathvariant=&quot;bold&quot;>A</mi></mrow></math>\" role=\"presentation\" style=\"position: relative;\"><nobr aria-hidden=\"true\"><span class=\"math\" id=\"MathJax-Span-2440\" style=\"width: 1.078em; display: inline-block;\"><span style=\"display: inline-block; position: relative; width: 0.873em; height: 0px; font-size: 122%;\"><span style=\"position: absolute; clip: rect(1.386em, 1000.82em, 2.41em, -999.997em); top: -2.252em; left: 0em;\"><span class=\"mrow\" id=\"MathJax-Span-2441\"><span class=\"texatom\" id=\"MathJax-Span-2442\"><span class=\"mrow\" id=\"MathJax-Span-2443\"><span class=\"mi\" id=\"MathJax-Span-2444\" style=\"font-family: MathJax_Main-bold;\">A</span></span></span></span><span style=\"display: inline-block; width: 0px; height: 2.257em;\"></span></span></span><span style=\"display: inline-block; overflow: hidden; vertical-align: -0.059em; border-left: 0px solid; width: 0px; height: 1.003em;\"></span></span></nobr><span class=\"MJX_Assistive_MathML\" role=\"presentation\"><math xmlns=\"http://www.w3.org/1998/Math/MathML\"><mrow class=\"MJX-TeXAtom-ORD\"><mi mathvariant=\"bold\">A</mi></mrow></math></span></span><script type=\"math/tex\" id=\"MathJax-Element-179\">\\mathbf{A}</script></span>: <span class=\"math notranslate nohighlight\"><span class=\"MathJax_Preview\" style=\"color: inherit;\"></span><span class=\"MathJax\" id=\"MathJax-Element-180-Frame\" tabindex=\"0\" data-mathml=\"<math xmlns=&quot;http://www.w3.org/1998/Math/MathML&quot;><mo stretchy=&quot;false&quot;>(</mo><msup><mrow class=&quot;MJX-TeXAtom-ORD&quot;><mi mathvariant=&quot;bold&quot;>A</mi></mrow><mi mathvariant=&quot;normal&quot;>&amp;#x22A4;</mi></msup><msup><mo stretchy=&quot;false&quot;>)</mo><mi mathvariant=&quot;normal&quot;>&amp;#x22A4;</mi></msup><mo>=</mo><mrow class=&quot;MJX-TeXAtom-ORD&quot;><mi mathvariant=&quot;bold&quot;>A</mi></mrow></math>\" role=\"presentation\" style=\"position: relative;\"><nobr aria-hidden=\"true\"><span class=\"math\" id=\"MathJax-Span-2445\" style=\"width: 6.201em; display: inline-block;\"><span style=\"display: inline-block; position: relative; width: 5.074em; height: 0px; font-size: 122%;\"><span style=\"position: absolute; clip: rect(1.181em, 1005.02em, 2.666em, -999.997em); top: -2.252em; left: 0em;\"><span class=\"mrow\" id=\"MathJax-Span-2446\"><span class=\"mo\" id=\"MathJax-Span-2447\" style=\"font-family: MathJax_Main;\">(</span><span class=\"msubsup\" id=\"MathJax-Span-2448\"><span style=\"display: inline-block; position: relative; width: 1.488em; height: 0px;\"><span style=\"position: absolute; clip: rect(3.128em, 1000.82em, 4.152em, -999.997em); top: -3.993em; left: 0em;\"><span class=\"texatom\" id=\"MathJax-Span-2449\"><span class=\"mrow\" id=\"MathJax-Span-2450\"><span class=\"mi\" id=\"MathJax-Span-2451\" style=\"font-family: MathJax_Main-bold;\">A</span></span></span><span style=\"display: inline-block; width: 0px; height: 3.998em;\"></span></span><span style=\"position: absolute; top: -4.403em; left: 0.873em;\"><span class=\"mi\" id=\"MathJax-Span-2452\" style=\"font-size: 70.7%; font-family: MathJax_Main;\">⊤</span><span style=\"display: inline-block; width: 0px; height: 3.998em;\"></span></span></span></span><span class=\"msubsup\" id=\"MathJax-Span-2453\"><span style=\"display: inline-block; position: relative; width: 1.027em; height: 0px;\"><span style=\"position: absolute; clip: rect(3.076em, 1000.31em, 4.408em, -999.997em); top: -3.993em; left: 0em;\"><span class=\"mo\" id=\"MathJax-Span-2454\" style=\"font-family: MathJax_Main;\">)</span><span style=\"display: inline-block; width: 0px; height: 3.998em;\"></span></span><span style=\"position: absolute; top: -4.352em; left: 0.412em;\"><span class=\"mi\" id=\"MathJax-Span-2455\" style=\"font-size: 70.7%; font-family: MathJax_Main;\">⊤</span><span style=\"display: inline-block; width: 0px; height: 3.998em;\"></span></span></span></span><span class=\"mo\" id=\"MathJax-Span-2456\" style=\"font-family: MathJax_Main; padding-left: 0.259em;\">=</span><span class=\"texatom\" id=\"MathJax-Span-2457\" style=\"padding-left: 0.259em;\"><span class=\"mrow\" id=\"MathJax-Span-2458\"><span class=\"mi\" id=\"MathJax-Span-2459\" style=\"font-family: MathJax_Main-bold;\">A</span></span></span></span><span style=\"display: inline-block; width: 0px; height: 2.257em;\"></span></span></span><span style=\"display: inline-block; overflow: hidden; vertical-align: -0.372em; border-left: 0px solid; width: 0px; height: 1.503em;\"></span></span></nobr><span class=\"MJX_Assistive_MathML\" role=\"presentation\"><math xmlns=\"http://www.w3.org/1998/Math/MathML\"><mo stretchy=\"false\">(</mo><msup><mrow class=\"MJX-TeXAtom-ORD\"><mi mathvariant=\"bold\">A</mi></mrow><mi mathvariant=\"normal\">⊤</mi></msup><msup><mo stretchy=\"false\">)</mo><mi mathvariant=\"normal\">⊤</mi></msup><mo>=</mo><mrow class=\"MJX-TeXAtom-ORD\"><mi mathvariant=\"bold\">A</mi></mrow></math></span></span><script type=\"math/tex\" id=\"MathJax-Element-180\">(\\mathbf{A}^\\top)^\\top = \\mathbf{A}</script></span>.</p>"
   ]
  },
  {
   "cell_type": "code",
   "execution_count": 1,
   "metadata": {},
   "outputs": [],
   "source": [
    "import numpy as np"
   ]
  },
  {
   "cell_type": "code",
   "execution_count": 6,
   "metadata": {},
   "outputs": [
    {
     "data": {
      "text/plain": [
       "array([[ True,  True,  True],\n",
       "       [ True,  True,  True]])"
      ]
     },
     "execution_count": 6,
     "metadata": {},
     "output_type": "execute_result"
    }
   ],
   "source": [
    "a = np.array([[1,5,3],[4,5,6]])\n",
    "a == (a.T).T"
   ]
  },
  {
   "cell_type": "markdown",
   "metadata": {},
   "source": [
    "<h1>Question 2</h1>\n",
    "<p>Given two matrices <span class=\"math notranslate nohighlight\"><span class=\"MathJax_Preview\" style=\"color: inherit;\"></span><span class=\"MathJax\" id=\"MathJax-Element-181-Frame\" tabindex=\"0\" data-mathml=\"<math xmlns=&quot;http://www.w3.org/1998/Math/MathML&quot;><mrow class=&quot;MJX-TeXAtom-ORD&quot;><mi mathvariant=&quot;bold&quot;>A</mi></mrow></math>\" role=\"presentation\" style=\"position: relative;\"><nobr aria-hidden=\"true\"><span class=\"math\" id=\"MathJax-Span-2460\" style=\"width: 1.078em; display: inline-block;\"><span style=\"display: inline-block; position: relative; width: 0.873em; height: 0px; font-size: 122%;\"><span style=\"position: absolute; clip: rect(1.386em, 1000.82em, 2.41em, -999.997em); top: -2.252em; left: 0em;\"><span class=\"mrow\" id=\"MathJax-Span-2461\"><span class=\"texatom\" id=\"MathJax-Span-2462\"><span class=\"mrow\" id=\"MathJax-Span-2463\"><span class=\"mi\" id=\"MathJax-Span-2464\" style=\"font-family: MathJax_Main-bold;\">A</span></span></span></span><span style=\"display: inline-block; width: 0px; height: 2.257em;\"></span></span></span><span style=\"display: inline-block; overflow: hidden; vertical-align: -0.059em; border-left: 0px solid; width: 0px; height: 1.003em;\"></span></span></nobr><span class=\"MJX_Assistive_MathML\" role=\"presentation\"><math xmlns=\"http://www.w3.org/1998/Math/MathML\"><mrow class=\"MJX-TeXAtom-ORD\"><mi mathvariant=\"bold\">A</mi></mrow></math></span></span><script type=\"math/tex\" id=\"MathJax-Element-181\">\\mathbf{A}</script></span> and <span class=\"math notranslate nohighlight\"><span class=\"MathJax_Preview\" style=\"color: inherit;\"></span><span class=\"MathJax\" id=\"MathJax-Element-182-Frame\" tabindex=\"0\" data-mathml=\"<math xmlns=&quot;http://www.w3.org/1998/Math/MathML&quot;><mrow class=&quot;MJX-TeXAtom-ORD&quot;><mi mathvariant=&quot;bold&quot;>B</mi></mrow></math>\" role=\"presentation\" style=\"position: relative;\"><nobr aria-hidden=\"true\"><span class=\"math\" id=\"MathJax-Span-2465\" style=\"width: 1.027em; display: inline-block;\"><span style=\"display: inline-block; position: relative; width: 0.822em; height: 0px; font-size: 122%;\"><span style=\"position: absolute; clip: rect(1.437em, 1000.77em, 2.41em, -999.997em); top: -2.252em; left: 0em;\"><span class=\"mrow\" id=\"MathJax-Span-2466\"><span class=\"texatom\" id=\"MathJax-Span-2467\"><span class=\"mrow\" id=\"MathJax-Span-2468\"><span class=\"mi\" id=\"MathJax-Span-2469\" style=\"font-family: MathJax_Main-bold;\">B</span></span></span></span><span style=\"display: inline-block; width: 0px; height: 2.257em;\"></span></span></span><span style=\"display: inline-block; overflow: hidden; vertical-align: -0.059em; border-left: 0px solid; width: 0px; height: 0.941em;\"></span></span></nobr><span class=\"MJX_Assistive_MathML\" role=\"presentation\"><math xmlns=\"http://www.w3.org/1998/Math/MathML\"><mrow class=\"MJX-TeXAtom-ORD\"><mi mathvariant=\"bold\">B</mi></mrow></math></span></span><script type=\"math/tex\" id=\"MathJax-Element-182\">\\mathbf{B}</script></span>, show\n",
    "that the sum of transposes is equal to the transpose of a sum:\n",
    "<span class=\"math notranslate nohighlight\"><span class=\"MathJax_Preview\" style=\"color: inherit;\"></span><span class=\"MathJax\" id=\"MathJax-Element-183-Frame\" tabindex=\"0\" data-mathml=\"<math xmlns=&quot;http://www.w3.org/1998/Math/MathML&quot;><msup><mrow class=&quot;MJX-TeXAtom-ORD&quot;><mi mathvariant=&quot;bold&quot;>A</mi></mrow><mi mathvariant=&quot;normal&quot;>&amp;#x22A4;</mi></msup><mo>+</mo><msup><mrow class=&quot;MJX-TeXAtom-ORD&quot;><mi mathvariant=&quot;bold&quot;>B</mi></mrow><mi mathvariant=&quot;normal&quot;>&amp;#x22A4;</mi></msup><mo>=</mo><mo stretchy=&quot;false&quot;>(</mo><mrow class=&quot;MJX-TeXAtom-ORD&quot;><mi mathvariant=&quot;bold&quot;>A</mi></mrow><mo>+</mo><mrow class=&quot;MJX-TeXAtom-ORD&quot;><mi mathvariant=&quot;bold&quot;>B</mi></mrow><msup><mo stretchy=&quot;false&quot;>)</mo><mi mathvariant=&quot;normal&quot;>&amp;#x22A4;</mi></msup></math>\" role=\"presentation\" style=\"position: relative;\"><nobr aria-hidden=\"true\"><span class=\"math\" id=\"MathJax-Span-2470\" style=\"width: 11.888em; display: inline-block;\"><span style=\"display: inline-block; position: relative; width: 9.736em; height: 0px; font-size: 122%;\"><span style=\"position: absolute; clip: rect(1.181em, 1009.74em, 2.666em, -999.997em); top: -2.252em; left: 0em;\"><span class=\"mrow\" id=\"MathJax-Span-2471\"><span class=\"msubsup\" id=\"MathJax-Span-2472\"><span style=\"display: inline-block; position: relative; width: 1.488em; height: 0px;\"><span style=\"position: absolute; clip: rect(3.128em, 1000.82em, 4.152em, -999.997em); top: -3.993em; left: 0em;\"><span class=\"texatom\" id=\"MathJax-Span-2473\"><span class=\"mrow\" id=\"MathJax-Span-2474\"><span class=\"mi\" id=\"MathJax-Span-2475\" style=\"font-family: MathJax_Main-bold;\">A</span></span></span><span style=\"display: inline-block; width: 0px; height: 3.998em;\"></span></span><span style=\"position: absolute; top: -4.403em; left: 0.873em;\"><span class=\"mi\" id=\"MathJax-Span-2476\" style=\"font-size: 70.7%; font-family: MathJax_Main;\">⊤</span><span style=\"display: inline-block; width: 0px; height: 3.998em;\"></span></span></span></span><span class=\"mo\" id=\"MathJax-Span-2477\" style=\"font-family: MathJax_Main; padding-left: 0.207em;\">+</span><span class=\"msubsup\" id=\"MathJax-Span-2478\" style=\"padding-left: 0.207em;\"><span style=\"display: inline-block; position: relative; width: 1.437em; height: 0px;\"><span style=\"position: absolute; clip: rect(3.179em, 1000.77em, 4.152em, -999.997em); top: -3.993em; left: 0em;\"><span class=\"texatom\" id=\"MathJax-Span-2479\"><span class=\"mrow\" id=\"MathJax-Span-2480\"><span class=\"mi\" id=\"MathJax-Span-2481\" style=\"font-family: MathJax_Main-bold;\">B</span></span></span><span style=\"display: inline-block; width: 0px; height: 3.998em;\"></span></span><span style=\"position: absolute; top: -4.403em; left: 0.822em;\"><span class=\"mi\" id=\"MathJax-Span-2482\" style=\"font-size: 70.7%; font-family: MathJax_Main;\">⊤</span><span style=\"display: inline-block; width: 0px; height: 3.998em;\"></span></span></span></span><span class=\"mo\" id=\"MathJax-Span-2483\" style=\"font-family: MathJax_Main; padding-left: 0.259em;\">=</span><span class=\"mo\" id=\"MathJax-Span-2484\" style=\"font-family: MathJax_Main; padding-left: 0.259em;\">(</span><span class=\"texatom\" id=\"MathJax-Span-2485\"><span class=\"mrow\" id=\"MathJax-Span-2486\"><span class=\"mi\" id=\"MathJax-Span-2487\" style=\"font-family: MathJax_Main-bold;\">A</span></span></span><span class=\"mo\" id=\"MathJax-Span-2488\" style=\"font-family: MathJax_Main; padding-left: 0.207em;\">+</span><span class=\"texatom\" id=\"MathJax-Span-2489\" style=\"padding-left: 0.207em;\"><span class=\"mrow\" id=\"MathJax-Span-2490\"><span class=\"mi\" id=\"MathJax-Span-2491\" style=\"font-family: MathJax_Main-bold;\">B</span></span></span><span class=\"msubsup\" id=\"MathJax-Span-2492\"><span style=\"display: inline-block; position: relative; width: 1.027em; height: 0px;\"><span style=\"position: absolute; clip: rect(3.076em, 1000.31em, 4.408em, -999.997em); top: -3.993em; left: 0em;\"><span class=\"mo\" id=\"MathJax-Span-2493\" style=\"font-family: MathJax_Main;\">)</span><span style=\"display: inline-block; width: 0px; height: 3.998em;\"></span></span><span style=\"position: absolute; top: -4.352em; left: 0.412em;\"><span class=\"mi\" id=\"MathJax-Span-2494\" style=\"font-size: 70.7%; font-family: MathJax_Main;\">⊤</span><span style=\"display: inline-block; width: 0px; height: 3.998em;\"></span></span></span></span></span><span style=\"display: inline-block; width: 0px; height: 2.257em;\"></span></span></span><span style=\"display: inline-block; overflow: hidden; vertical-align: -0.372em; border-left: 0px solid; width: 0px; height: 1.503em;\"></span></span></nobr><span class=\"MJX_Assistive_MathML\" role=\"presentation\"><math xmlns=\"http://www.w3.org/1998/Math/MathML\"><msup><mrow class=\"MJX-TeXAtom-ORD\"><mi mathvariant=\"bold\">A</mi></mrow><mi mathvariant=\"normal\">⊤</mi></msup><mo>+</mo><msup><mrow class=\"MJX-TeXAtom-ORD\"><mi mathvariant=\"bold\">B</mi></mrow><mi mathvariant=\"normal\">⊤</mi></msup><mo>=</mo><mo stretchy=\"false\">(</mo><mrow class=\"MJX-TeXAtom-ORD\"><mi mathvariant=\"bold\">A</mi></mrow><mo>+</mo><mrow class=\"MJX-TeXAtom-ORD\"><mi mathvariant=\"bold\">B</mi></mrow><msup><mo stretchy=\"false\">)</mo><mi mathvariant=\"normal\">⊤</mi></msup></math></span></span><script type=\"math/tex\" id=\"MathJax-Element-183\">\\mathbf{A}^\\top + \\mathbf{B}^\\top = (\\mathbf{A} + \\mathbf{B})^\\top</script></span>.</p>"
   ]
  },
  {
   "cell_type": "code",
   "execution_count": 8,
   "metadata": {},
   "outputs": [
    {
     "data": {
      "text/plain": [
       "(array([[1, 3],\n",
       "        [4, 5]]),\n",
       " (2, 2))"
      ]
     },
     "execution_count": 8,
     "metadata": {},
     "output_type": "execute_result"
    }
   ],
   "source": [
    "a = np.array([[1,3],[4,5]])\n",
    "a, a.shape\n"
   ]
  },
  {
   "cell_type": "code",
   "execution_count": 9,
   "metadata": {},
   "outputs": [
    {
     "data": {
      "text/plain": [
       "(array([[4, 6],\n",
       "        [7, 9]]),\n",
       " (2, 2))"
      ]
     },
     "execution_count": 9,
     "metadata": {},
     "output_type": "execute_result"
    }
   ],
   "source": [
    "b= np.array([[4,6],[7,9]])\n",
    "b, b.shape"
   ]
  },
  {
   "cell_type": "code",
   "execution_count": 14,
   "metadata": {},
   "outputs": [
    {
     "data": {
      "text/plain": [
       "array([[ 5, 11],\n",
       "       [ 9, 14]])"
      ]
     },
     "execution_count": 14,
     "metadata": {},
     "output_type": "execute_result"
    }
   ],
   "source": [
    "a.T+b.T"
   ]
  },
  {
   "cell_type": "code",
   "execution_count": 15,
   "metadata": {},
   "outputs": [
    {
     "data": {
      "text/plain": [
       "array([[ 5, 11],\n",
       "       [ 9, 14]])"
      ]
     },
     "execution_count": 15,
     "metadata": {},
     "output_type": "execute_result"
    }
   ],
   "source": [
    "(a+b).T "
   ]
  },
  {
   "cell_type": "code",
   "execution_count": 17,
   "metadata": {},
   "outputs": [
    {
     "data": {
      "text/plain": [
       "array([[ True,  True],\n",
       "       [ True,  True]])"
      ]
     },
     "execution_count": 17,
     "metadata": {},
     "output_type": "execute_result"
    }
   ],
   "source": [
    "(a+b).T == a.T+b.T"
   ]
  },
  {
   "cell_type": "markdown",
   "metadata": {},
   "source": [
    "<h1>Question 3</h1>\n",
    "<p>Given any square matrix <span class=\"math notranslate nohighlight\"><span class=\"MathJax_Preview\" style=\"color: inherit;\"></span><span class=\"MathJax\" id=\"MathJax-Element-184-Frame\" tabindex=\"0\" data-mathml=\"<math xmlns=&quot;http://www.w3.org/1998/Math/MathML&quot;><mrow class=&quot;MJX-TeXAtom-ORD&quot;><mi mathvariant=&quot;bold&quot;>A</mi></mrow></math>\" role=\"presentation\" style=\"position: relative;\"><nobr aria-hidden=\"true\"><span class=\"math\" id=\"MathJax-Span-2495\" style=\"width: 1.078em; display: inline-block;\"><span style=\"display: inline-block; position: relative; width: 0.873em; height: 0px; font-size: 122%;\"><span style=\"position: absolute; clip: rect(1.386em, 1000.82em, 2.41em, -999.997em); top: -2.252em; left: 0em;\"><span class=\"mrow\" id=\"MathJax-Span-2496\"><span class=\"texatom\" id=\"MathJax-Span-2497\"><span class=\"mrow\" id=\"MathJax-Span-2498\"><span class=\"mi\" id=\"MathJax-Span-2499\" style=\"font-family: MathJax_Main-bold;\">A</span></span></span></span><span style=\"display: inline-block; width: 0px; height: 2.257em;\"></span></span></span><span style=\"display: inline-block; overflow: hidden; vertical-align: -0.059em; border-left: 0px solid; width: 0px; height: 1.003em;\"></span></span></nobr><span class=\"MJX_Assistive_MathML\" role=\"presentation\"><math xmlns=\"http://www.w3.org/1998/Math/MathML\"><mrow class=\"MJX-TeXAtom-ORD\"><mi mathvariant=\"bold\">A</mi></mrow></math></span></span><script type=\"math/tex\" id=\"MathJax-Element-184\">\\mathbf{A}</script></span>, is\n",
    "<span class=\"math notranslate nohighlight\"><span class=\"MathJax_Preview\" style=\"color: inherit;\"></span><span class=\"MathJax\" id=\"MathJax-Element-185-Frame\" tabindex=\"0\" data-mathml=\"<math xmlns=&quot;http://www.w3.org/1998/Math/MathML&quot;><mrow class=&quot;MJX-TeXAtom-ORD&quot;><mi mathvariant=&quot;bold&quot;>A</mi></mrow><mo>+</mo><msup><mrow class=&quot;MJX-TeXAtom-ORD&quot;><mi mathvariant=&quot;bold&quot;>A</mi></mrow><mi mathvariant=&quot;normal&quot;>&amp;#x22A4;</mi></msup></math>\" role=\"presentation\" style=\"position: relative;\"><nobr aria-hidden=\"true\"><span class=\"math\" id=\"MathJax-Span-2500\" style=\"width: 4.408em; display: inline-block;\"><span style=\"display: inline-block; position: relative; width: 3.589em; height: 0px; font-size: 122%;\"><span style=\"position: absolute; clip: rect(1.181em, 1003.59em, 2.513em, -999.997em); top: -2.252em; left: 0em;\"><span class=\"mrow\" id=\"MathJax-Span-2501\"><span class=\"texatom\" id=\"MathJax-Span-2502\"><span class=\"mrow\" id=\"MathJax-Span-2503\"><span class=\"mi\" id=\"MathJax-Span-2504\" style=\"font-family: MathJax_Main-bold;\">A</span></span></span><span class=\"mo\" id=\"MathJax-Span-2505\" style=\"font-family: MathJax_Main; padding-left: 0.207em;\">+</span><span class=\"msubsup\" id=\"MathJax-Span-2506\" style=\"padding-left: 0.207em;\"><span style=\"display: inline-block; position: relative; width: 1.488em; height: 0px;\"><span style=\"position: absolute; clip: rect(3.128em, 1000.82em, 4.152em, -999.997em); top: -3.993em; left: 0em;\"><span class=\"texatom\" id=\"MathJax-Span-2507\"><span class=\"mrow\" id=\"MathJax-Span-2508\"><span class=\"mi\" id=\"MathJax-Span-2509\" style=\"font-family: MathJax_Main-bold;\">A</span></span></span><span style=\"display: inline-block; width: 0px; height: 3.998em;\"></span></span><span style=\"position: absolute; top: -4.403em; left: 0.873em;\"><span class=\"mi\" id=\"MathJax-Span-2510\" style=\"font-size: 70.7%; font-family: MathJax_Main;\">⊤</span><span style=\"display: inline-block; width: 0px; height: 3.998em;\"></span></span></span></span></span><span style=\"display: inline-block; width: 0px; height: 2.257em;\"></span></span></span><span style=\"display: inline-block; overflow: hidden; vertical-align: -0.184em; border-left: 0px solid; width: 0px; height: 1.316em;\"></span></span></nobr><span class=\"MJX_Assistive_MathML\" role=\"presentation\"><math xmlns=\"http://www.w3.org/1998/Math/MathML\"><mrow class=\"MJX-TeXAtom-ORD\"><mi mathvariant=\"bold\">A</mi></mrow><mo>+</mo><msup><mrow class=\"MJX-TeXAtom-ORD\"><mi mathvariant=\"bold\">A</mi></mrow><mi mathvariant=\"normal\">⊤</mi></msup></math></span></span><script type=\"math/tex\" id=\"MathJax-Element-185\">\\mathbf{A} + \\mathbf{A}^\\top</script></span> always symmetric? Why?</p>"
   ]
  },
  {
   "cell_type": "code",
   "execution_count": 18,
   "metadata": {},
   "outputs": [],
   "source": [
    "A = np.ones((2,2))"
   ]
  },
  {
   "cell_type": "code",
   "execution_count": 19,
   "metadata": {},
   "outputs": [
    {
     "data": {
      "text/plain": [
       "(2, 2)"
      ]
     },
     "execution_count": 19,
     "metadata": {},
     "output_type": "execute_result"
    }
   ],
   "source": [
    "A.shape"
   ]
  },
  {
   "cell_type": "code",
   "execution_count": 20,
   "metadata": {},
   "outputs": [
    {
     "data": {
      "text/plain": [
       "array([[ True,  True],\n",
       "       [ True,  True]])"
      ]
     },
     "execution_count": 20,
     "metadata": {},
     "output_type": "execute_result"
    }
   ],
   "source": [
    "(A + A.T).T == A + A.T"
   ]
  },
  {
   "cell_type": "markdown",
   "metadata": {},
   "source": [
    "If we look at above code we can see dispertion property of Transpose Operation and if we do necessary operations we obtain (A + A.T).T = A.T + A"
   ]
  },
  {
   "cell_type": "markdown",
   "metadata": {},
   "source": [
    "<h1>Question 4</h1>\n",
    "<p>We defined the tensor <code class=\"docutils literal notranslate\"><span class=\"pre\">X</span></code> of shape (2, 3, 4) in this section. What\n",
    "is the output of <code class=\"docutils literal notranslate\"><span class=\"pre\">len(X)</span></code>?</p>"
   ]
  },
  {
   "cell_type": "code",
   "execution_count": 36,
   "metadata": {},
   "outputs": [
    {
     "data": {
      "text/plain": [
       "((2, 3, 4),\n",
       " array([[[1., 1., 1., 1.],\n",
       "         [1., 1., 1., 1.],\n",
       "         [1., 1., 1., 1.]],\n",
       " \n",
       "        [[1., 1., 1., 1.],\n",
       "         [1., 1., 1., 1.],\n",
       "         [1., 1., 1., 1.]]]))"
      ]
     },
     "execution_count": 36,
     "metadata": {},
     "output_type": "execute_result"
    }
   ],
   "source": [
    "X = np.ones((2,3,4))\n",
    "X.shape,X"
   ]
  },
  {
   "cell_type": "code",
   "execution_count": 34,
   "metadata": {},
   "outputs": [
    {
     "data": {
      "text/plain": [
       "2"
      ]
     },
     "execution_count": 34,
     "metadata": {},
     "output_type": "execute_result"
    }
   ],
   "source": [
    "result = len(X)"
   ]
  },
  {
   "cell_type": "markdown",
   "metadata": {},
   "source": [
    "Result is 2 because len builtin function returns number of rows for matrices also we called this first dimension for rows."
   ]
  },
  {
   "cell_type": "markdown",
   "metadata": {},
   "source": [
    "<h1>Question 5</h1>\n",
    "<p>For a tensor <code class=\"docutils literal notranslate\"><span class=\"pre\">X</span></code> of arbitrary shape, does <code class=\"docutils literal notranslate\"><span class=\"pre\">len(X)</span></code> always\n",
    "correspond to the length of a certain axis of <code class=\"docutils literal notranslate\"><span class=\"pre\">X</span></code>? What is that\n",
    "axis?</p>"
   ]
  },
  {
   "cell_type": "markdown",
   "metadata": {},
   "source": [
    "We answered this question at above --> Result is 2 because len builtin function returns number of rows for matrices also we called this first dimension for rows."
   ]
  },
  {
   "cell_type": "markdown",
   "metadata": {},
   "source": [
    "<h1>Question 6</h1>\n",
    "<p>Run <code class=\"docutils literal notranslate\"><span class=\"pre\">A</span> <span class=\"pre\">/</span> <span class=\"pre\">A.sum(axis=1)</span></code> and see what happens. Can you analyze the\n",
    "reason?</p>"
   ]
  },
  {
   "cell_type": "code",
   "execution_count": 68,
   "metadata": {},
   "outputs": [
    {
     "data": {
      "text/plain": [
       "(array([[4, 1, 9],\n",
       "        [3, 0, 1],\n",
       "        [1, 0, 8]]),\n",
       " array([14,  4,  9]))"
      ]
     },
     "execution_count": 68,
     "metadata": {},
     "output_type": "execute_result"
    }
   ],
   "source": [
    "A = np.random.randint(low = 0, high = 10, size = 9).reshape(3,3)\n",
    "A, A.sum(axis=1)"
   ]
  },
  {
   "cell_type": "code",
   "execution_count": 69,
   "metadata": {},
   "outputs": [
    {
     "data": {
      "text/plain": [
       "array([[0.28571429, 0.25      , 1.        ],\n",
       "       [0.21428571, 0.        , 0.11111111],\n",
       "       [0.07142857, 0.        , 0.88888889]])"
      ]
     },
     "execution_count": 69,
     "metadata": {},
     "output_type": "execute_result"
    }
   ],
   "source": [
    "result = A / A.sum(axis=1)\n",
    "result"
   ]
  },
  {
   "cell_type": "markdown",
   "metadata": {},
   "source": [
    "Each row divided by corresponding sum of axes this is the reason of result you can see above."
   ]
  },
  {
   "cell_type": "markdown",
   "metadata": {},
   "source": [
    "<h1>Question 7</h1>\n",
    "<p>When traveling between two points in Manhattan, what is the distance\n",
    "that you need to cover in terms of the coordinates, i.e., in terms of\n",
    "avenues and streets? Can you travel diagonally?</p>"
   ]
  },
  {
   "cell_type": "markdown",
   "metadata": {},
   "source": [
    "this question about norms and Manhattan distance is L1 norm if we walk we use this distance so we will do this operation for example distance of avenues 40 Meters and distance of streets 30 Meters we walk 70 M for manhattan distance so as walk , if we can fly we use norm 2 euclidean distance as we known as Pythagorean theorem and we calculate and answer is 50 M for flying so euclidean distance."
   ]
  },
  {
   "cell_type": "markdown",
   "metadata": {},
   "source": [
    "<h1>Question 8</h1>\n",
    "<p>Consider a tensor with shape (2, 3, 4). What are the shapes of the\n",
    "summation outputs along axis 0, 1, and 2?</p>"
   ]
  },
  {
   "cell_type": "code",
   "execution_count": 73,
   "metadata": {},
   "outputs": [
    {
     "data": {
      "text/plain": [
       "(array([[2., 2., 2., 2.],\n",
       "        [2., 2., 2., 2.],\n",
       "        [2., 2., 2., 2.]]),\n",
       " array([[3., 3., 3., 3.],\n",
       "        [3., 3., 3., 3.]]),\n",
       " array([[4., 4., 4.],\n",
       "        [4., 4., 4.]]),\n",
       " array([[[1., 1., 1., 1.],\n",
       "         [1., 1., 1., 1.],\n",
       "         [1., 1., 1., 1.]],\n",
       " \n",
       "        [[1., 1., 1., 1.],\n",
       "         [1., 1., 1., 1.],\n",
       "         [1., 1., 1., 1.]]]),\n",
       " (3, 4),\n",
       " (2, 4),\n",
       " (2, 3))"
      ]
     },
     "execution_count": 73,
     "metadata": {},
     "output_type": "execute_result"
    }
   ],
   "source": [
    "X = np.ones((2,3,4))\n",
    "ax0 = X.sum(axis=0)#column\n",
    "ax1 = X.sum(axis=1)#rows\n",
    "ax2 = X.sum(axis=2)#nd tensors\n",
    "\n",
    "ax0,ax1,ax2,X,ax0.shape,ax1.shape,ax2.shape"
   ]
  },
  {
   "cell_type": "markdown",
   "metadata": {},
   "source": [
    "<h1>Question 9</h1>\n",
    "<p>Feed a tensor with 3 or more axes to the <code class=\"docutils literal notranslate\"><span class=\"pre\">linalg.norm</span></code> function and\n",
    "observe its output. What does this function compute for tensors of\n",
    "arbitrary shape?</p>"
   ]
  },
  {
   "cell_type": "code",
   "execution_count": 97,
   "metadata": {},
   "outputs": [
    {
     "data": {
      "text/plain": [
       "(array([[[1, 8, 1, 4],\n",
       "         [9, 3, 6, 4],\n",
       "         [1, 6, 3, 8]],\n",
       " \n",
       "        [[3, 9, 5, 1],\n",
       "         [2, 3, 7, 4],\n",
       "         [7, 0, 0, 2]]]),\n",
       " (2, 3, 4))"
      ]
     },
     "execution_count": 97,
     "metadata": {},
     "output_type": "execute_result"
    }
   ],
   "source": [
    "X = np.random.randint(low=0, high=10,size=24).reshape(2,3,4)\n",
    "X,X.shape"
   ]
  },
  {
   "cell_type": "code",
   "execution_count": 98,
   "metadata": {},
   "outputs": [
    {
     "data": {
      "text/plain": [
       "24.1039415863879"
      ]
     },
     "execution_count": 98,
     "metadata": {},
     "output_type": "execute_result"
    }
   ],
   "source": [
    "result = np.linalg.norm(X)\n",
    "result"
   ]
  },
  {
   "cell_type": "code",
   "execution_count": 100,
   "metadata": {},
   "outputs": [
    {
     "data": {
      "text/plain": [
       "24.1039415863879"
      ]
     },
     "execution_count": 100,
     "metadata": {},
     "output_type": "execute_result"
    }
   ],
   "source": [
    "np.sqrt(np.sum(X**2)) #np.linalg.norm select 2.type norm also called euclidean distance and this code proves that"
   ]
  },
  {
   "cell_type": "code",
   "execution_count": null,
   "metadata": {},
   "outputs": [],
   "source": []
  },
  {
   "cell_type": "code",
   "execution_count": null,
   "metadata": {},
   "outputs": [],
   "source": []
  },
  {
   "cell_type": "code",
   "execution_count": null,
   "metadata": {},
   "outputs": [],
   "source": []
  }
 ],
 "metadata": {
  "kernelspec": {
   "display_name": "Python 3",
   "language": "python",
   "name": "python3"
  },
  "language_info": {
   "codemirror_mode": {
    "name": "ipython",
    "version": 3
   },
   "file_extension": ".py",
   "mimetype": "text/x-python",
   "name": "python",
   "nbconvert_exporter": "python",
   "pygments_lexer": "ipython3",
   "version": "3.8.3"
  }
 },
 "nbformat": 4,
 "nbformat_minor": 4
}
